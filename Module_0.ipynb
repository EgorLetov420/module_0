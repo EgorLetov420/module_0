{
 "cells": [
  {
   "cell_type": "code",
   "execution_count": 43,
   "metadata": {},
   "outputs": [],
   "source": [
    "import numpy as np #Импорт библиотек\n",
    "import math\n",
    "\n",
    "# Для уменьшения кол-ва попыток воспользуемся методом бисекции\n",
    "\n",
    "\n",
    "def game_core_bisec(number, a, b):\n",
    "    count = 1\n",
    "    predict = math.floor((a + b) / 2)\n",
    "    while predict != number:\n",
    "        if predict > number:\n",
    "            b = predict\n",
    "        else:\n",
    "            a = predict\n",
    "        predict = math.floor((a + b) / 2)\n",
    "        count += 1\n",
    "        if (b - a) == 1: # доходим методом бисекции до предпоследней итерации и во избежание возникновения\n",
    "            count += 1   # бесконечного цикла проводим проверку последних двух возможных вариантов\n",
    "            break        # таким образом кол-во итераций не изменится\n",
    "    return(count)\n",
    "\n",
    "# бесконечные циклы появляются в следствие особенности округления"
   ]
  },
  {
   "cell_type": "code",
   "execution_count": 44,
   "metadata": {},
   "outputs": [],
   "source": [
    "def score_game(game_core, a, b):\n",
    "    '''Запускаем игру 1000 раз, чтобы узнать, как быстро игра угадывает число'''\n",
    "    count_ls = []\n",
    "    np.random.seed(1)  # фиксируем RANDOM SEED, чтобы ваш эксперимент был воспроизводим!\n",
    "    random_array = np.random.randint(1,101, size=(1000))\n",
    "    for number in random_array:\n",
    "        count_ls.append(game_core(number, a, b))\n",
    "    score = int(np.mean(count_ls))\n",
    "    print(f\"Ваш алгоритм угадывает число в среднем за {score} попыток\")\n",
    "    return(score)"
   ]
  },
  {
   "cell_type": "code",
   "execution_count": 45,
   "metadata": {},
   "outputs": [
    {
     "name": "stdout",
     "output_type": "stream",
     "text": [
      "Ваш алгоритм угадывает число в среднем за 5 попыток\n"
     ]
    },
    {
     "data": {
      "text/plain": [
       "5"
      ]
     },
     "execution_count": 45,
     "metadata": {},
     "output_type": "execute_result"
    }
   ],
   "source": [
    "a = 1 \n",
    "b = 100    #зададим границы отрезков (по условию задачи 1, 100)\n",
    "score_game(game_core_bisec, a, b)"
   ]
  }
 ],
 "metadata": {
  "kernelspec": {
   "display_name": "Python 3",
   "language": "python",
   "name": "python3"
  },
  "language_info": {
   "codemirror_mode": {
    "name": "ipython",
    "version": 3
   },
   "file_extension": ".py",
   "mimetype": "text/x-python",
   "name": "python",
   "nbconvert_exporter": "python",
   "pygments_lexer": "ipython3",
   "version": "3.7.3"
  }
 },
 "nbformat": 4,
 "nbformat_minor": 2
}
